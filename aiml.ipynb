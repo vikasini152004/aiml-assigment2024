{
 "cells": [
  {
   "cell_type": "code",
   "execution_count": 8,
   "metadata": {},
   "outputs": [
    {
     "name": "stdout",
     "output_type": "stream",
     "text": [
      "A B C D E F \n"
     ]
    }
   ],
   "source": [
    "from collections import deque\n",
    "\n",
    "def bfs(graph, start):\n",
    "    visited = set()\n",
    "    queue = deque([start])\n",
    "\n",
    "    while queue:\n",
    "        vertex = queue.popleft()\n",
    "        if vertex not in visited:\n",
    "            visited.add(vertex)\n",
    "            print(vertex, end=' ')\n",
    "\n",
    "            for neighbor in graph[vertex]:\n",
    "                queue.append(neighbor)\n",
    "\n",
    "    print()\n",
    "\n",
    "# Example usage:\n",
    "graph = {\n",
    "    'A': ['B', 'C'],\n",
    "    'B': ['A', 'D', 'E'],\n",
    "    'C': ['A', 'F'],\n",
    "    'D': ['B'],\n",
    "    'E': ['B', 'F'],\n",
    "    'F': ['C', 'E']\n",
    "}\n",
    "\n",
    "bfs(graph, 'A')"
   ]
  },
  {
   "cell_type": "code",
   "execution_count": 9,
   "metadata": {},
   "outputs": [
    {
     "name": "stdout",
     "output_type": "stream",
     "text": [
      "A C F E B D \n"
     ]
    }
   ],
   "source": [
    "def dfs(graph, start):\n",
    "    visited = set()\n",
    "    stack = [start]\n",
    "\n",
    "    while stack:\n",
    "        vertex = stack.pop()\n",
    "        if vertex not in visited:\n",
    "            visited.add(vertex)\n",
    "            print(vertex, end=' ')\n",
    "\n",
    "            for neighbor in graph[vertex]:\n",
    "                if neighbor not in visited:\n",
    "                    stack.append(neighbor)\n",
    "\n",
    "    print()\n",
    "\n",
    "# Example usage:\n",
    "graph = {\n",
    "    'A': ['B', 'C'],\n",
    "    'B': ['A', 'D', 'E'],\n",
    "    'C': ['A', 'F'],\n",
    "    'D': ['B'],\n",
    "    'E': ['B', 'F'],\n",
    "    'F': ['C', 'E']\n",
    "}\n",
    "\n",
    "dfs(graph, 'A')"
   ]
  },
  {
   "cell_type": "code",
   "execution_count": 10,
   "metadata": {},
   "outputs": [
    {
     "name": "stdout",
     "output_type": "stream",
     "text": [
      "INITIAL STATE\n",
      "[[1 8 7]\n",
      " [4 2 3]\n",
      " [6 5 0]]\n",
      "\n",
      "FINAL STATE\n",
      "[[1 2 3]\n",
      " [4 5 6]\n",
      " [7 8 0]]\n",
      "\n",
      "SOLUTION:\n"
     ]
    }
   ],
   "source": [
    "import numpy as np\n",
    "\n",
    "# Heuristic function using Manhattan distance\n",
    "def heuristic(state):\n",
    "    goal_state = np.array([[1, 2, 3], [4, 5, 6], [7, 8, 0]])\n",
    "    return np.sum(np.abs(state - goal_state))\n",
    "\n",
    "# A* algorithm for 8-puzzle problem\n",
    "def a_star(initial_state):\n",
    "    frontier = [(heuristic(initial_state), 0, initial_state, [])]\n",
    "    explored = set()\n",
    "\n",
    "    while frontier:\n",
    "        _, cost, state, path = min(frontier)\n",
    "        frontier.remove((_, cost, state, path))\n",
    "\n",
    "        if np.array_equal(state, goal_state):\n",
    "            return path + [state]\n",
    "\n",
    "        explored.add(tuple(state.reshape(-1)))\n",
    "\n",
    "        for neighbor, move in gen_neighbors(state):\n",
    "            if tuple(neighbor.reshape(-1)) in explored:\n",
    "                continue\n",
    "\n",
    "            neighbor_cost = cost + 1\n",
    "            frontier.append((heuristic(neighbor) + neighbor_cost,\n",
    "                             neighbor_cost,\n",
    "                             neighbor,\n",
    "                             path + [move]))\n",
    "\n",
    "    return []\n",
    "\n",
    "# Generate neighbors and corresponding moves for a given state\n",
    "def gen_neighbors(state):\n",
    "    zero_index = np.where(state == 0)\n",
    "    zero_row, zero_col = zero_index[0][0], zero_index[1][0]\n",
    "\n",
    "    neighbors = [np.zeros_like(state)] * 4\n",
    "    moves = [(0, -1), (-1, 0), (0, 1), (1, 0)]\n",
    "\n",
    "    for i, (row_offset, col_offset) in enumerate(moves):\n",
    "        new_row, new_col = zero_row + row_offset, zero_col + col_offset\n",
    "        if 0 <= new_row < 3 and 0 <= new_col < 3:\n",
    "            neighbors[i][zero_row, zero_col] = state[new_row, new_col]\n",
    "            neighbors[i][new_row, new_col] = 0\n",
    "            yield neighbors[i], f'move {i+1}'\n",
    "\n",
    "# Initialize the puzzle\n",
    "goal_state = np.array([[1, 2, 3], [4, 5, 6], [7, 8, 0]])\n",
    "initial_state = np.array([[1, 8, 7], [4, 2, 3], [6, 5, 0]])\n",
    "\n",
    "# Find the solution using A* algorithm\n",
    "solution = a_star(initial_state)\n",
    "\n",
    "# Print the solution\n",
    "print('INITIAL STATE')\n",
    "print(initial_state)\n",
    "print('\\nFINAL STATE')\n",
    "print(goal_state)\n",
    "print('\\nSOLUTION:')\n",
    "for i, state in enumerate(solution):\n",
    "    print(f'Step {i+1}:')\n",
    "    print(state)"
   ]
  }
 ],
 "metadata": {
  "kernelspec": {
   "display_name": ".venv",
   "language": "python",
   "name": "python3"
  },
  "language_info": {
   "codemirror_mode": {
    "name": "ipython",
    "version": 3
   },
   "file_extension": ".py",
   "mimetype": "text/x-python",
   "name": "python",
   "nbconvert_exporter": "python",
   "pygments_lexer": "ipython3",
   "version": "3.10.13"
  }
 },
 "nbformat": 4,
 "nbformat_minor": 2
}
